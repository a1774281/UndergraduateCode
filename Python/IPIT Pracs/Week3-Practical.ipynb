{
 "cells": [
  {
   "cell_type": "markdown",
   "metadata": {},
   "source": [
    "# Week 3 Practical "
   ]
  },
  {
   "cell_type": "markdown",
   "metadata": {},
   "source": [
    "## Task 1 - Calculating the circumfrence of a circle \n",
    "\n",
    "Write a program that calculates the perimeter and area of a circle given a radius.\n",
    "\n"
   ]
  },
  {
   "cell_type": "code",
   "execution_count": 6,
   "metadata": {},
   "outputs": [
    {
     "name": "stdin",
     "output_type": "stream",
     "text": [
      "please enter the radius 10\n"
     ]
    },
    {
     "name": "stdout",
     "output_type": "stream",
     "text": [
      "C = 62.83185307179586\n",
      "Area = 314.1592653589793\n"
     ]
    }
   ],
   "source": [
    "import math\n",
    "\n",
    "r = int(input(\"please enter the radius\"))\n",
    "\n",
    "C = math.pi * (r*2)\n",
    "\n",
    "area = math.pi * (r**2)\n",
    "print(f'C = {C}')\n",
    "print(f'Area = {area}')\n",
    "\n",
    "#calculate circumfrence and area below"
   ]
  },
  {
   "cell_type": "markdown",
   "metadata": {},
   "source": [
    "## Task 2 - Calculating the Perimeter and Area of a Rectangle"
   ]
  },
  {
   "attachments": {
    "image.png": {
     "image/png": "[encoded data removed]"
    }
   },
   "cell_type": "markdown",
   "metadata": {},
   "source": [
    "![image.png](attachment:image.png)"
   ]
  },
  {
   "cell_type": "markdown",
   "metadata": {},
   "source": [
    "Write a program that calculates the perimeter and area of a rectangle. Your program should use two variables **width** and **height**"
   ]
  },
  {
   "cell_type": "code",
   "execution_count": 8,
   "metadata": {},
   "outputs": [
    {
     "name": "stdin",
     "output_type": "stream",
     "text": [
      "please enter the width 10\n",
      "please enter the height 5\n"
     ]
    },
    {
     "name": "stdout",
     "output_type": "stream",
     "text": [
      "The perimeter is 30\n",
      "The area is 50\n"
     ]
    }
   ],
   "source": [
    "width = int(input(\"please enter the width\"))\n",
    "height = int(input(\"please enter the height\"))\n",
    "\n",
    "perimeter = (width*2) + (height*2)\n",
    "area = width * height\n",
    "\n",
    "print('The perimeter is', perimeter)\n",
    "print('The area is', area)"
   ]
  },
  {
   "cell_type": "markdown",
   "metadata": {},
   "source": [
    "## Task 3 - Calculating the area of a triangle"
   ]
  },
  {
   "cell_type": "markdown",
   "metadata": {},
   "source": [
    "Write a program that has 6 variables Ax, Ay, Bx, By, Cx, Cy and calculates the triangle formed by these points using the formula below.  "
   ]
  },
  {
   "attachments": {
    "image.png": {
     "image/png": "[encoded data removed]"
    }
   },
   "cell_type": "markdown",
   "metadata": {},
   "source": [
    "![image.png](attachment:image.png)"
   ]
  },
  {
   "attachments": {
    "image.png": {
     "image/png": "[encoded data removed]"
    }
   },
   "cell_type": "markdown",
   "metadata": {},
   "source": [
    "![image.png](attachment:image.png)"
   ]
  },
  {
   "cell_type": "code",
   "execution_count": 13,
   "metadata": {},
   "outputs": [
    {
     "name": "stdin",
     "output_type": "stream",
     "text": [
      "please enter the Ax 2\n",
      "please enter the Ay 1\n",
      "please enter the Bx 1\n",
      "please enter the By 8\n",
      "please enter the Cx 8\n",
      "please enter the Cy 9\n"
     ]
    },
    {
     "name": "stdout",
     "output_type": "stream",
     "text": [
      "25.0\n"
     ]
    }
   ],
   "source": [
    "Ax = int(input(\"please enter the Ax\"))\n",
    "Ay = int(input(\"please enter the Ay\"))\n",
    "Bx = int(input(\"please enter the Bx\"))\n",
    "By = int(input(\"please enter the By\"))\n",
    "Cx = int(input(\"please enter the Cx\"))\n",
    "Cy = int(input(\"please enter the Cy\"))\n",
    "\n",
    "triangle = (Ax*(By-Cy) + Bx*(Cy-Ay) + Cx*(Ay-By)) / 2\n",
    "print(abs('Area = ', triangle))"
   ]
  },
  {
   "cell_type": "markdown",
   "metadata": {},
   "source": [
    "## Task 4 - A fast integer calculator "
   ]
  },
  {
   "cell_type": "markdown",
   "metadata": {},
   "source": [
    "There are CPUs that are extremely fast for multiplying two integers yet is slow for multiplying floating numbers. Sometimes we would leverage such characteristics and deliberately convert floating numbers to integers to obtain an approximate answer fast.<br>\n",
    "\n",
    "Please write a program that \n",
    "1. allows the user to input two float numbers\n",
    "1. converts two variables into integer and calculate its multiplication\n",
    "1. reports the difference between the result of floating point multiplication and the fast integer multiplication"
   ]
  },
  {
   "cell_type": "code",
   "execution_count": 15,
   "metadata": {},
   "outputs": [
    {
     "name": "stdin",
     "output_type": "stream",
     "text": [
      "Please enter a float number 6.9\n",
      "Please enter a float number 2.3\n"
     ]
    },
    {
     "name": "stdout",
     "output_type": "stream",
     "text": [
      "1.1999999999999993\n"
     ]
    }
   ],
   "source": [
    "f1 = float(input('Please enter a float number'))\n",
    "f2 = float(input('Please enter a float number'))\n",
    "\n",
    "f_ans = f1 + f2\n",
    "\n",
    "f1 = int(f1)\n",
    "f2 = int(f2)\n",
    "\n",
    "i_ans = f1 + f2\n",
    "\n",
    "print(f_ans - i_ans)"
   ]
  },
  {
   "cell_type": "markdown",
   "metadata": {},
   "source": [
    "## Task 5 - Create an aligned table using string formatting method "
   ]
  },
  {
   "cell_type": "raw",
   "metadata": {},
   "source": [
    "       table\n",
    "    1    2    3    4\n",
    "   10   20   30   40\n",
    "  100  200  300  400\n",
    "       table"
   ]
  },
  {
   "cell_type": "code",
   "execution_count": 41,
   "metadata": {},
   "outputs": [
    {
     "name": "stdout",
     "output_type": "stream",
     "text": [
      "     table     \n",
      "  1    2    3     4 \n",
      " 10   20   30    40 \n",
      "100  200  300   400 \n",
      "     table     \n"
     ]
    }
   ],
   "source": [
    "a = 1\n",
    "b = 2\n",
    "c = 3\n",
    "d = 4\n",
    "table = 'table'\n",
    "\n",
    "print(f'{table: ^15}')\n",
    "print(f'{a:^5}  {b:^}  {c:^5}  {d:^3}')\n",
    "print(f'{a*10:^4}  {b*10:^}  {c*10:^4}  {d*10:^4}')\n",
    "print(f'{a*100:^3}  {b*100:^}  {c*100:^3}  {d*100:^5}')\n",
    "print(f'{table: ^15}')\n"
   ]
  },
  {
   "cell_type": "code",
   "execution_count": null,
   "metadata": {},
   "outputs": [],
   "source": []
  }
 ],
 "metadata": {
  "kernelspec": {
   "display_name": "Python 3",
   "language": "python",
   "name": "python3"
  },
  "language_info": {
   "codemirror_mode": {
    "name": "ipython",
    "version": 3
   },
   "file_extension": ".py",
   "mimetype": "text/x-python",
   "name": "python",
   "nbconvert_exporter": "python",
   "pygments_lexer": "ipython3",
   "version": "3.8.2"
  }
 },
 "nbformat": 4,
 "nbformat_minor": 4
}
