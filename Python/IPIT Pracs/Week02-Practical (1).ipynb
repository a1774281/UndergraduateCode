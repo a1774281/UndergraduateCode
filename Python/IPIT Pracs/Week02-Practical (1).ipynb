{
 "cells": [
  {
   "cell_type": "markdown",
   "metadata": {},
   "source": [
    "# Week 2 Practical\n",
    "## 1. Write a Python program that prints your name ."
   ]
  },
  {
   "cell_type": "code",
   "execution_count": null,
   "metadata": {},
   "outputs": [],
   "source": [
    "print(\"My name is Ethan Copeland\")"
   ]
  },
  {
   "cell_type": "markdown",
   "metadata": {},
   "source": [
    "**Sample Output**<br>My Name is Tim Chen."
   ]
  },
  {
   "cell_type": "markdown",
   "metadata": {},
   "source": [
    "## 2. Write a Python program that prints a song."
   ]
  },
  {
   "cell_type": "code",
   "execution_count": null,
   "metadata": {},
   "outputs": [],
   "source": []
  },
  {
   "cell_type": "markdown",
   "metadata": {},
   "source": [
    "**Expected Output**<br>Twinkle, twinkle, little star,<br>\n",
    "&emsp;How I wonder what you are!<br>\n",
    "&emsp;&emsp;Up above the world so high, \t\t\n",
    "&emsp;&emsp;Like a diamond in the sky.<br>\n",
    "\n",
    "Twinkle, twinkle, little star, <br>\n",
    "&emsp;How I wonder what you are!<br>"
   ]
  },
  {
   "cell_type": "markdown",
   "metadata": {},
   "source": [
    "## 3. Internet is very creative in creating emoticons using unicode For example,  (⌐■_■) or ( ͡° ͜ʖ ͡°) or ಠ_ಠ. Please create a emoticons of your own face using Unicode in Python. Below are some unicode that you might find useful.\n",
    "\n",
    "You can search for unicode here (https://www.fileformat.info/info/unicode/char/search.htm) and perhaps get your inspiration from here (https://lenny-face-generator.textsmilies.com/?cr=bW91dGh%2Bdy5udy5pZV9leWVzfncubzEuNHdfZWFyc34xNC0xNQ%3D%3D)\n",
    "\n",
    "Note that **you MUST use unicode** in your print function, instead of copy & paste the symbols from your browsers.\n"
   ]
  },
  {
   "cell_type": "code",
   "execution_count": null,
   "metadata": {},
   "outputs": [],
   "source": []
  },
  {
   "cell_type": "markdown",
   "metadata": {},
   "source": [
    "## 4. File and directory manipulation"
   ]
  },
  {
   "cell_type": "markdown",
   "metadata": {},
   "source": [
    "Write a Python program that does the following \n",
    "1. create a folder \"W1Prac\" in your Download folder\n",
    "1. change directory to the \"W1Prac\" folder, \n",
    "1. create a \"F1\" folder \n",
    "1. create three text files, t1.txt, t2.txt, t3.txt, in F1\n",
    "1. copy F1 to F2 \n",
    "1. copy F2 as F3\n",
    "1. remove all txt file in F3"
   ]
  },
  {
   "cell_type": "raw",
   "metadata": {},
   "source": [
    "After executing your code, your W1Prac folder should look like this.\n",
    "\n",
    "W1Prac\n",
    " -F1\n",
    " --t1.txt\n",
    " --t2.txt\n",
    " --t3.txt\n",
    " -F2\n",
    " --t1.txt\n",
    " --t2.txt\n",
    " --t3.txt\n",
    " -F3"
   ]
  },
  {
   "cell_type": "code",
   "execution_count": 10,
   "metadata": {},
   "outputs": [],
   "source": [
    "import os\n",
    "W1Prac = os.popen('mkdir /home/ethan/Downloads/W1Prac')\n",
    "#cd = os.chdir('/home/ethan/Downloads/W1Prac')\n",
    "F1 = os.popen('mkdir /home/ethan/Downloads/W1Prac/F1')\n",
    "cdF1 = os.chdir('/home/ethan/Downloads/W1Prac/F1')\n",
    "t1 = os.popen(\"touch t1.txt\")\n",
    "t2 = os.popen(\"touch t2.txt\")\n",
    "t3 = os.popen(\"touch t3.txt\")\n",
    "W1Prac2 = os.chdir('/home/ethan/Downloads/W1Prac')\n",
    "#mkF2 = os.popen(\"mkdir /home/ethan/Downloads/W1Prac/F2\")\n",
    "cpF1 = os.popen(\"cp F1 -r F2\")\n",
    "cpF2 = os.popen(\"cp F2 -r F3\")\n",
    "cdF3 = os.chdir(\"/home/ethan/Downloads/W1Prac/F3\")\n",
    "rmt3 = os.popen(\"rm t3.txt\")\n",
    "rmt2 = os.popen(\"rm t2.txt\")\n",
    "rmF1 = os.popen(\"rm t1.txt\")"
   ]
  },
  {
   "cell_type": "markdown",
   "metadata": {},
   "source": [
    "# 5. File and directory permission "
   ]
  },
  {
   "cell_type": "markdown",
   "metadata": {},
   "source": [
    "Using the files you just created, please the permission for files and folders as follow:\n",
    "\n",
    "1. make F1/t1.txt and F2/t1.txt with only the read permission for everyone\n",
    "1. For F1/t2.txt, gives everyone executable permission, while only the owner and the group can read and write.\n",
    "1. For folder F2, gives everyone permission to change directory into it, while only the owner and the group can see/add/remove the files\n",
    "1. For folder F3, only the owner can have access to the folder.\n",
    "\n",
    "Please write your **shell command** sequences below"
   ]
  },
  {
   "cell_type": "code",
   "execution_count": null,
   "metadata": {},
   "outputs": [],
   "source": [
    "%%bash\n"
   ]
  }
 ],
 "metadata": {
  "kernelspec": {
   "display_name": "Python 3",
   "language": "python",
   "name": "python3"
  },
  "language_info": {
   "codemirror_mode": {
    "name": "ipython",
    "version": 3
   },
   "file_extension": ".py",
   "mimetype": "text/x-python",
   "name": "python",
   "nbconvert_exporter": "python",
   "pygments_lexer": "ipython3",
   "version": "3.8.2"
  }
 },
 "nbformat": 4,
 "nbformat_minor": 4
}
