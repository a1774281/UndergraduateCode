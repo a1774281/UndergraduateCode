{
 "cells": [
  {
   "cell_type": "markdown",
   "metadata": {},
   "source": [
    "## Task 1 - Chess play (30%)\n",
    "In this Assignment you will revist the chess exercise you wrote in Workshop 01. Recall, in that exercise you were instructed to write a simple program to draw the first stage of a chess board using the <code>print</code> statement.\n",
    "\n",
    "Recall that the characters to draw the different playing pieces are as follows:<br>\n",
    "\\u265F - Black Pawn<br>\n",
    "\\u265C - Black Rook <br>\n",
    "\\u265E - Black Knight <br>\n",
    "\\u265D - Black Bishop <br>\n",
    "\\u265B - Black Queen <br>\n",
    "\\u265A - Black King <br>\n",
    "\n",
    "\\u2659 - White Pawn <br>\n",
    "\\u2656 - White Rook <br>\n",
    "\\u2658 - White Knight <br>\n",
    "\\u2657 - White Bishop <br>\n",
    "\\u2655 - White Queen <br>\n",
    "\\u2654 - White King <br>"
   ]
  },
  {
   "cell_type": "code",
   "execution_count": null,
   "metadata": {},
   "outputs": [],
   "source": [
    "print(\"   [A][B][C][D][E][F][G][H]\")\n",
    "print(\"[8][\\u265C][\\u265E][\\u265D][\\u265B][\\u265A][\\u265D][\\u265E][\\u265C]\")\n",
    "print(\"[7][\\u265F][\\u265F][\\u265F][\\u265F][\\u265F][\\u265F][\\u265F][\\u265F]\")\n",
    "print(\"[6][ ][ ][ ][ ][ ][ ][ ][ ]\")\n",
    "print(\"[5][ ][ ][ ][ ][ ][ ][ ][ ]\")\n",
    "print(\"[4][ ][ ][ ][ ][ ][ ][ ][ ]\")\n",
    "print(\"[3][ ][ ][ ][ ][ ][ ][ ][ ]\")\n",
    "print(\"[2][\\u2659][\\u2659][\\u2659][\\u2659][\\u2659][\\u2659][\\u2659][\\u2659]\")\n",
    "print(\"[1][\\u2656][\\u2658][\\u2657][\\u2655][\\u2654][\\u2657][\\u2658][\\u2656]\")\n",
    "print(\"   [A][B][C][D][E][F][G][H]\")"
   ]
  },
  {
   "cell_type": "markdown",
   "metadata": {},
   "source": [
    "In this assignment your task is to change this to an array implementation. You should\n",
    "- store each row as a list\n",
    "- store the whole board using a nested list"
   ]
  },
  {
   "cell_type": "markdown",
   "metadata": {},
   "source": [
    "## Task 1.1 - Store each row as a list "
   ]
  },
  {
   "cell_type": "markdown",
   "metadata": {},
   "source": [
    "In this task, you will convert each row from a single string to a list of strings. Below provide an example for the conversion of your first row"
   ]
  },
  {
   "cell_type": "code",
   "execution_count": null,
   "metadata": {},
   "outputs": [],
   "source": [
    "# originally, the first row is a long string\n",
    "first_row = \"[\\u2656][\\u2658][\\u2657][\\u2655][\\u2654][\\u2657][\\u2658][\\u2656]\" \n",
    "# now, we store it in a list, where each element is a piece. \n",
    "r1 = ['\\u2656','\\u2658', '\\u2657', '\\u2655', '\\u2654', '\\u2657','\\u2658','\\u2656']\n",
    "\n",
    "# please continue below and create r2 to r8.\n",
    "r2 = \n",
    "r3 = \n",
    "...\n",
    "\n",
    "# finally, write a for loop that print out your row as a single string. (recall the string merge activity in workshop)\n",
    "\n"
   ]
  },
  {
   "cell_type": "markdown",
   "metadata": {},
   "source": [
    "## Task 1.2 - Combine rows into board and print"
   ]
  },
  {
   "cell_type": "markdown",
   "metadata": {},
   "source": [
    "Now you should have variable r1, r2...r8, each contains a row of pieces. Now, please put them into a big two-dimensional list where each element is a row."
   ]
  },
  {
   "cell_type": "code",
   "execution_count": null,
   "metadata": {},
   "outputs": [],
   "source": [
    "board = [[], []...] # create a nested list using r1 to r8 above\n",
    "\n",
    "\n",
    "# then, use nested for loop to print out the board\n",
    "# you should reference your for loop in Task 1\n"
   ]
  },
  {
   "cell_type": "markdown",
   "metadata": {},
   "source": [
    "## Task 1.3 - Play the game! "
   ]
  },
  {
   "cell_type": "markdown",
   "metadata": {},
   "source": [
    "Now you have a chessboard and you can print it out. Which means, you can actually play the game!\n",
    "For example, if you want to move your pawn forward, you can do something like:"
   ]
  },
  {
   "cell_type": "code",
   "execution_count": null,
   "metadata": {},
   "outputs": [],
   "source": [
    "board[3][0] = board[2][0] # advance the white pawn at row 2 to row 3 (A2 to A3)\n",
    "board[2][0] = ' ' # clear the content at row 2 (clear A2)"
   ]
  },
  {
   "cell_type": "markdown",
   "metadata": {},
   "source": [
    "In this task, please do a check mate following the instruciton: https://www.wikihow.com/Checkmate-in-3-Moves-in-Chess"
   ]
  },
  {
   "cell_type": "code",
   "execution_count": null,
   "metadata": {},
   "outputs": [],
   "source": [
    "\n",
    "print(\"Starting Board\")\n",
    "\n",
    "# print the board use your nested for loops\n",
    "\n",
    "print(\"Move one:\")\n",
    "\n",
    "# move piece\n",
    "\n",
    "# print the board use your nested for loops\n",
    "\n",
    "print(\"Response one:\")\n",
    "\n",
    "# move piece\n",
    "\n",
    "# print the board use your nested for loops\n",
    "\n",
    "print(\"Move Check Mate:\")\n",
    "\n",
    "# move piece\n",
    "\n",
    "# print the board use your nested for loops\n",
    "\n"
   ]
  },
  {
   "cell_type": "markdown",
   "metadata": {},
   "source": [
    "## Task 2 - Factorial  (20%)\n",
    "\n",
    "Please write a program that takes input from the user and calculate its factorial. <br>\n",
    "\n",
    "For example, \n",
    "- If the user inputs 7, then your code should calculate\n",
    "- 7! = 1 x 2 x 3 x 4 x 5 x 6 x 7\n"
   ]
  },
  {
   "cell_type": "code",
   "execution_count": null,
   "metadata": {},
   "outputs": [],
   "source": [
    "# take user input\n",
    "\n",
    "\n",
    "# calculate factorial"
   ]
  },
  {
   "cell_type": "markdown",
   "metadata": {},
   "source": [
    "## Task 3 - Dot product (20%) "
   ]
  },
  {
   "attachments": {
    "image.png": {
     "image/png": "[encoded data removed]"
    }
   },
   "cell_type": "markdown",
   "metadata": {},
   "source": [
    "![image.png](attachment:image.png)"
   ]
  },
  {
   "cell_type": "markdown",
   "metadata": {},
   "source": [
    "Please implement the dot product in Python"
   ]
  },
  {
   "cell_type": "code",
   "execution_count": 22,
   "metadata": {},
   "outputs": [],
   "source": [
    "a = [1, 3, 5, 7, 9, 11, 13]\n",
    "b = [2, 4, 6, 8, 10, 12, 14]\n",
    "# ab = # the answr is 504\n"
   ]
  },
  {
   "cell_type": "markdown",
   "metadata": {},
   "source": [
    "## Task 4 - Expense tracker (30%)"
   ]
  },
  {
   "cell_type": "markdown",
   "metadata": {},
   "source": [
    "In this task, we are writing a simple program that track user's spending."
   ]
  },
  {
   "cell_type": "markdown",
   "metadata": {},
   "source": [
    "### Task 4.1 - Culmulative daily expense "
   ]
  },
  {
   "cell_type": "markdown",
   "metadata": {},
   "source": [
    "Below is a list containing the daily expense of Alex. Please create another list that shows the cumulative spend of the week. For example,\n",
    "- the 2nd element should be the sum of Monday + Tuesday spendings\n",
    "- the 3rd element should be the sum of Monday + Tuesday + Wednesday spendings"
   ]
  },
  {
   "cell_type": "code",
   "execution_count": null,
   "metadata": {},
   "outputs": [],
   "source": [
    "daily_spent = [20, 25, 23, 21, 30, 40, 20] # this list records the daily spent\n",
    "cum_spent = [] # the list of cumulative spending should be [20, 45, 68, 89, 119, 159, 179]\n",
    "\n",
    "#write code to create the cum_spent based on daily_spent"
   ]
  },
  {
   "cell_type": "markdown",
   "metadata": {},
   "source": [
    "### Task 4.2 - Expense tracking"
   ]
  },
  {
   "cell_type": "markdown",
   "metadata": {},
   "source": [
    "Many expense tracking program provides a function that compare your spending habit among weeks. Please report\n",
    "- daily expense difference\n",
    "- culmative expense difference\n",
    "- the weekly spending difference"
   ]
  },
  {
   "cell_type": "code",
   "execution_count": null,
   "metadata": {},
   "outputs": [],
   "source": [
    "week1 = [20, 25, 23, 21, 30, 40, 20]\n",
    "week2 = [15, 30, 20, 15, 35, 60, 30]\n",
    "week3 = [15, 23, 22, 18, 60, 100, 130] # Alex has a big weekend!\n",
    "\n",
    "#Between week 1 and week 2\n",
    "w12_diff = # the daily expense diff between week1 and week2 is [-5, 5, -3, -6, 5, 20, 10]\n",
    "cul_w12_diff = # the culmulative expense difference between w1 and w2 is [-5, 0, -3, -9, -4, 16, 26]\n",
    "diff = #26\n",
    "print('The spending difference between W2 and W1 is {diff}')\n",
    "\n",
    "#please do the same for week 3 and week 2\n"
   ]
  },
  {
   "cell_type": "code",
   "execution_count": null,
   "metadata": {},
   "outputs": [],
   "source": []
  }
 ],
 "metadata": {
  "kernelspec": {
   "display_name": "Python 3",
   "language": "python",
   "name": "python3"
  },
  "language_info": {
   "codemirror_mode": {
    "name": "ipython",
    "version": 3
   },
   "file_extension": ".py",
   "mimetype": "text/x-python",
   "name": "python",
   "nbconvert_exporter": "python",
   "pygments_lexer": "ipython3",
   "version": "3.8.2"
  }
 },
 "nbformat": 4,
 "nbformat_minor": 4
}
