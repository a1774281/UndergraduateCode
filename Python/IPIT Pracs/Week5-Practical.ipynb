{
 "cells": [
  {
   "cell_type": "markdown",
   "metadata": {},
   "source": [
    "# Task 1 : Build a database (20%)"
   ]
  },
  {
   "cell_type": "markdown",
   "metadata": {},
   "source": [
    "When a user creates a new account, the system would first check if there is already an existing user name in the database. In this task, you will create a simple username checking system with the following steps:\n",
    "\n",
    "1. Create a list **users** representing **existing** user names in the system, for example ['Ray', 'Belle', 'Anna', 'John']\n",
    "1. Create another list **new_users** representing **new** user names to be added into the system, for example ['Tim', 'Samudra', 'john', 'Anna']\n",
    "1. Finally, add every names in the **new_users** into the system and check for any redundant name.\n",
    "\n",
    "A little challenge, make sure your comparison is **case insensitive**, e.g. 'John' is equal to 'john'."
   ]
  },
  {
   "cell_type": "code",
   "execution_count": 117,
   "metadata": {},
   "outputs": [
    {
     "name": "stdout",
     "output_type": "stream",
     "text": [
      "Anna is already a user\n",
      "['Ray', 'Belle', 'Anna', 'John', 'Tim', 'Samudra', 'john']\n"
     ]
    }
   ],
   "source": [
    "users = ['Ray', 'Belle', 'Anna', 'John']\n",
    "new_users = ['Tim', 'Samudra', 'john', 'Anna']\n",
    "\n",
    "for i in new_users:\n",
    "    if i in users:\n",
    "        print(f'{i} is already a user')\n",
    "    else:\n",
    "        users.append(i)\n",
    "print(users)\n"
   ]
  },
  {
   "cell_type": "markdown",
   "metadata": {},
   "source": [
    "# Task 2: Max and min "
   ]
  },
  {
   "cell_type": "markdown",
   "metadata": {},
   "source": [
    "Given a list of integers [3, 4, 2, 15, 17, 30, 5, 25], please write a program that identify the maximum and minimum numbers in this list. \n",
    "\n",
    "Note that you will **not** get marks if you use the builtin Python function such as sort(), len(), min(), or max()."
   ]
  },
  {
   "cell_type": "code",
   "execution_count": 31,
   "metadata": {},
   "outputs": [
    {
     "name": "stdout",
     "output_type": "stream",
     "text": [
      "max is 30 and min is 2\n"
     ]
    }
   ],
   "source": [
    "li = [3, 4, 2, 15, 17, 30, 5, 25]\n",
    "maxi = 0\n",
    "mini = 100\n",
    "for i in li:\n",
    "    if maxi <= i:\n",
    "        maxi = i\n",
    "for i in li:\n",
    "    if mini >= i:\n",
    "        mini = i\n",
    "print(f'max is {maxi} and min is {mini}')\n",
    "    \n",
    "    "
   ]
  },
  {
   "cell_type": "markdown",
   "metadata": {},
   "source": [
    "# Task 3 : Caesar cipher (30%)"
   ]
  },
  {
   "cell_type": "markdown",
   "metadata": {},
   "source": [
    "The Caesar cipher is one of the earliest known and simplest ciphers. It is a type of substitution cipher in which each letter in the plaintext is 'shifted' a certain number of places down the alphabet. For example, with a shift of 2, the word \"hi\", will become \"jk\". Because **h** is replaced by **j**, **i** is replaced by **k**.\n",
    "\n",
    "In this task, you will write a program that encrypt the user input with Caesar Cipher, and decrypt it. For simplicity, we can assume that the user will only use lowercase letters. "
   ]
  },
  {
   "cell_type": "markdown",
   "metadata": {},
   "source": [
    "Below is a list containing lowercase character, and the code also shows you the use of .index function to get the index of a character."
   ]
  },
  {
   "cell_type": "code",
   "execution_count": 32,
   "metadata": {},
   "outputs": [
    {
     "name": "stdout",
     "output_type": "stream",
     "text": [
      "h -> j\n"
     ]
    }
   ],
   "source": [
    "# char_list = list(string.ascii_lowercase[0:27]) # fyi, you can generate a list of characters by this line\n",
    "char_list = ['a', 'b', 'c', 'd', 'e', 'f', 'g', 'h', 'i', 'j', 'k', 'l', 'm', 'n', 'o', 'p', 'q', 'r', 's', 't', 'u', 'v', 'w', 'x', 'y', 'z']\n",
    "\n",
    "# the .index function gives you the index of a particular element. \n",
    "# below is a quick example of shifting the character by 2\n",
    "idx = char_list.index('h')   #get the index of character 'h'\n",
    "idx2 = idx + 2               #shift the index by 2\n",
    "new_char = char_list[idx2]   #get the encrypted character using the new index\n",
    "print(f'h -> {new_char}')\n",
    "\n"
   ]
  },
  {
   "cell_type": "markdown",
   "metadata": {},
   "source": [
    "## Task 3.1 Encrypt (15%)\n",
    "\n",
    "First, let's encrypt the user's input. Please take a look at the code above and use them in your program. Your Python code should take an input from the user then encrypt it with the Caesar cipher with a shift of 7. <br>\n",
    "\n",
    "**HINT:** When your index is larger then the lenth of the list, you can wrap around the list by using the modulo operator. For example **idx % len(list)**."
   ]
  },
  {
   "cell_type": "code",
   "execution_count": 72,
   "metadata": {},
   "outputs": [
    {
     "name": "stdin",
     "output_type": "stream",
     "text": [
      "Input a lowercase word without space:  pineapple\n"
     ]
    },
    {
     "name": "stdout",
     "output_type": "stream",
     "text": [
      "['w', 'p', 'u', 'l', 'h', 'w', 'w', 's', 'l']\n"
     ]
    }
   ],
   "source": [
    "import string\n",
    "shift = 7\n",
    "msg = input('Input a lowercase word without space: ')\n",
    "enc_msg = []\n",
    "for i in msg:\n",
    "    idx = char_list.index(i) \n",
    "    idx2 = (idx + 7) % len(char_list)\n",
    "    new_char = char_list[idx2]   \n",
    "    enc_msg.append(new_char)\n",
    "print(enc_msg)\n"
   ]
  },
  {
   "cell_type": "markdown",
   "metadata": {},
   "source": [
    "## Task 3.2 Decrypt (15%)\n",
    "Following Task 1.1, when the receiver received the encrypted message, a decryptor is needed to translate the encrypted word into a plain one. Please write a program that decrypt the encrypted message.\n"
   ]
  },
  {
   "cell_type": "code",
   "execution_count": 119,
   "metadata": {},
   "outputs": [
    {
     "name": "stdin",
     "output_type": "stream",
     "text": [
      "Input a lowercase word without space:  z\n"
     ]
    },
    {
     "name": "stdout",
     "output_type": "stream",
     "text": [
      "['s']\n"
     ]
    }
   ],
   "source": [
    "import string\n",
    "shift = 7\n",
    "enc_msg = input('Input a lowercase word without space: ')\n",
    "unenc_msg = []\n",
    "for i in enc_msg:\n",
    "    idx = char_list.index(i) \n",
    "    idx2 = (idx - 7)\n",
    "    new_char = char_list[idx2]   \n",
    "    unenc_msg.append(new_char)\n",
    "print(unenc_msg)"
   ]
  },
  {
   "cell_type": "markdown",
   "metadata": {},
   "source": [
    "---"
   ]
  },
  {
   "cell_type": "markdown",
   "metadata": {},
   "source": [
    "# Task 4 : Form a triangle with 3 sticks (30%)"
   ]
  },
  {
   "cell_type": "markdown",
   "metadata": {},
   "source": [
    "Given three sticks of different lengths, they might or might not constitute a triangle. For example, if you have one stick with the length of 12, while the other two with the length of 3 and 5. You will not be able to make those two short sticks meet in the middle. Thus these three sticks cannot constitute a triangle. \n",
    "\n",
    "To constitute a triangle, **the length of each stick should be smaller than the sum of the other two**. For example, if you have a triangle with edge lengths of 3, 4, 5. We can check that\n",
    "- 3 < 4 + 5\n",
    "- 4 < 3 + 5\n",
    "- 5 < 3 + 4\n",
    "\n",
    "And thus we can confirm that these three edges would form a triangle"
   ]
  },
  {
   "cell_type": "markdown",
   "metadata": {},
   "source": [
    "## Task 4.1 User input (10%)"
   ]
  },
  {
   "cell_type": "markdown",
   "metadata": {},
   "source": [
    "Write a Python code that allows users to input three integers and then stores those three integers into a list named **edges**. These three intergres represent the length of three sticks"
   ]
  },
  {
   "cell_type": "code",
   "execution_count": 120,
   "metadata": {},
   "outputs": [
    {
     "name": "stdin",
     "output_type": "stream",
     "text": [
      "Please input a length 3\n",
      "Please input a length 4\n",
      "Please input a length 5\n"
     ]
    },
    {
     "name": "stdout",
     "output_type": "stream",
     "text": [
      "['3', '4', '5']\n"
     ]
    }
   ],
   "source": [
    "edges = []\n",
    "x = 0\n",
    "while x != 3:\n",
    "    side = input(\"Please input a length\")\n",
    "    edges.append(side)\n",
    "    x += 1\n",
    "print(edges)\n"
   ]
  },
  {
   "cell_type": "markdown",
   "metadata": {},
   "source": [
    "## Task 4.2 Is triangle? (20%)"
   ]
  },
  {
   "cell_type": "markdown",
   "metadata": {},
   "source": [
    "Write a Python code that checks whether the given three sticks constitute a triangle. You can use three if statements to complete this task. \n",
    "\n",
    "And as a challenge, please consider using a for loop with one if statement to do the check (you can use \"%\" on the index to wrap around the list)."
   ]
  },
  {
   "cell_type": "code",
   "execution_count": null,
   "metadata": {},
   "outputs": [],
   "source": [
    "for i in edges:\n",
    "    "
   ]
  },
  {
   "cell_type": "code",
   "execution_count": null,
   "metadata": {},
   "outputs": [],
   "source": []
  },
  {
   "cell_type": "code",
   "execution_count": null,
   "metadata": {},
   "outputs": [],
   "source": []
  }
 ],
 "metadata": {
  "kernelspec": {
   "display_name": "Python 3",
   "language": "python",
   "name": "python3"
  },
  "language_info": {
   "codemirror_mode": {
    "name": "ipython",
    "version": 3
   },
   "file_extension": ".py",
   "mimetype": "text/x-python",
   "name": "python",
   "nbconvert_exporter": "python",
   "pygments_lexer": "ipython3",
   "version": "3.8.2"
  }
 },
 "nbformat": 4,
 "nbformat_minor": 4
}
