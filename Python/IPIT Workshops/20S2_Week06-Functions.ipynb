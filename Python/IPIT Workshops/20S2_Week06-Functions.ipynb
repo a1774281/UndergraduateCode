{
 "cells": [
  {
   "cell_type": "markdown",
   "metadata": {},
   "source": [
    "# Demo 1: Funciton"
   ]
  },
  {
   "cell_type": "markdown",
   "metadata": {},
   "source": [
    "From the video lecture, you should already know the following terms:  **module, function, parameter, argument, return value, positional argument, keyword argument**. If you are unsure about any of these terms, you should watch the video more carefully. "
   ]
  },
  {
   "cell_type": "markdown",
   "metadata": {},
   "source": [
    "### Function Definition "
   ]
  },
  {
   "cell_type": "markdown",
   "metadata": {},
   "source": [
    "Function is a block of code that are designed to do **one** specific job. Such as the Python built-in **print()** function that we have been using every week. With the help of function, we no longer need to repeatedly types or copy&paste same pieces of codes in our program when we need to reuse them. <br>\n",
    "\n",
    "In Python, the naming rule of the function is the same as a variable. It starts with a character and the name can contains both character, underscore, and digits. <br>\n",
    "\n",
    "Below is a hello world function. \n",
    "\n",
    "**Note that the function name should be in lowercase and separated by underscore.**\n"
   ]
  },
  {
   "cell_type": "code",
   "execution_count": 1,
   "metadata": {},
   "outputs": [
    {
     "name": "stdout",
     "output_type": "stream",
     "text": [
      "Hello World!\n"
     ]
    }
   ],
   "source": [
    "def hello_world():\n",
    "    print('Hello World!')\n",
    "\n",
    "hello_world()"
   ]
  },
  {
   "cell_type": "markdown",
   "metadata": {},
   "source": [
    "Below is another example. Again, the indentation of your code decides which lines are your function body."
   ]
  },
  {
   "cell_type": "code",
   "execution_count": 2,
   "metadata": {},
   "outputs": [
    {
     "name": "stdout",
     "output_type": "stream",
     "text": [
      "1 2 3 4 5\n",
      "6 7 8 9 10\n"
     ]
    }
   ],
   "source": [
    "def print_to_10(): \n",
    "    print('1 2 3 4 5') \n",
    "    print('6 7 8 9 10')\n",
    "    \n",
    "print_to_10() # function call\n",
    "    "
   ]
  },
  {
   "cell_type": "markdown",
   "metadata": {},
   "source": [
    "Let's have a little more complex function that counts to 100. Recall the **for** loop and **range** function. "
   ]
  },
  {
   "cell_type": "markdown",
   "metadata": {},
   "source": [
    "# Activity 1 "
   ]
  },
  {
   "cell_type": "markdown",
   "metadata": {},
   "source": [
    "Now, let's warm up a bit on using the funciton\n",
    "\n",
    "1. Write a function with a name \"greet\", which prints out 'hello' in the function body.\n",
    "1. Write a loop that call the function \"greet\" 10 times."
   ]
  },
  {
   "cell_type": "code",
   "execution_count": 8,
   "metadata": {},
   "outputs": [
    {
     "name": "stdout",
     "output_type": "stream",
     "text": [
      "Hello\n",
      "Hello\n",
      "Hello\n",
      "Hello\n",
      "Hello\n",
      "Hello\n",
      "Hello\n",
      "Hello\n",
      "Hello\n",
      "Hello\n"
     ]
    }
   ],
   "source": [
    "# add your code here\n",
    "def greet():\n",
    "    print(\"Hello\")\n",
    "    \n",
    "x = 0\n",
    "while x < 10:\n",
    "    greet()\n",
    "    x += 1\n"
   ]
  },
  {
   "cell_type": "markdown",
   "metadata": {},
   "source": [
    "Write a function **print_to_100** that prints from 1 to 100. This time, you should put the loop inside your function."
   ]
  },
  {
   "cell_type": "code",
   "execution_count": 9,
   "metadata": {},
   "outputs": [
    {
     "name": "stdout",
     "output_type": "stream",
     "text": [
      "1\n",
      "2\n",
      "3\n",
      "4\n",
      "5\n",
      "6\n",
      "7\n",
      "8\n",
      "9\n",
      "10\n",
      "11\n",
      "12\n",
      "13\n",
      "14\n",
      "15\n",
      "16\n",
      "17\n",
      "18\n",
      "19\n",
      "20\n",
      "21\n",
      "22\n",
      "23\n",
      "24\n",
      "25\n",
      "26\n",
      "27\n",
      "28\n",
      "29\n",
      "30\n",
      "31\n",
      "32\n",
      "33\n",
      "34\n",
      "35\n",
      "36\n",
      "37\n",
      "38\n",
      "39\n",
      "40\n",
      "41\n",
      "42\n",
      "43\n",
      "44\n",
      "45\n",
      "46\n",
      "47\n",
      "48\n",
      "49\n",
      "50\n",
      "51\n",
      "52\n",
      "53\n",
      "54\n",
      "55\n",
      "56\n",
      "57\n",
      "58\n",
      "59\n",
      "60\n",
      "61\n",
      "62\n",
      "63\n",
      "64\n",
      "65\n",
      "66\n",
      "67\n",
      "68\n",
      "69\n",
      "70\n",
      "71\n",
      "72\n",
      "73\n",
      "74\n",
      "75\n",
      "76\n",
      "77\n",
      "78\n",
      "79\n",
      "80\n",
      "81\n",
      "82\n",
      "83\n",
      "84\n",
      "85\n",
      "86\n",
      "87\n",
      "88\n",
      "89\n",
      "90\n",
      "91\n",
      "92\n",
      "93\n",
      "94\n",
      "95\n",
      "96\n",
      "97\n",
      "98\n",
      "99\n",
      "100\n"
     ]
    }
   ],
   "source": [
    "# add your code here\n",
    "def print_to_100():\n",
    "    x = 0\n",
    "    while x < 100:\n",
    "        print(x+1)\n",
    "        x+=1\n",
    "print_to_100()\n"
   ]
  },
  {
   "cell_type": "markdown",
   "metadata": {},
   "source": [
    "# Demo 2: Parameter and Argument "
   ]
  },
  {
   "cell_type": "markdown",
   "metadata": {},
   "source": [
    "A function can also take inputs from users. For example, based on the **print_to_100** function above, we can create a more flexible function that print to an arbitrary number **n**. "
   ]
  },
  {
   "cell_type": "code",
   "execution_count": null,
   "metadata": {},
   "outputs": [],
   "source": [
    "def print_to_n(n):\n",
    "    for i in range(0, n+1): # n + 1 so that it prints from 0 to n, instead of n-1\n",
    "        print(i)\n",
    "    print('---')    \n",
    "    \n",
    "print_to_n(3)\n",
    "print_to_n(5)\n",
    "    "
   ]
  },
  {
   "cell_type": "markdown",
   "metadata": {},
   "source": [
    "Formally, we call the **n** in parenthesis in the function definition a **parameter**, while the 3 and 5 that we pass into the function an **argument**. "
   ]
  },
  {
   "cell_type": "markdown",
   "metadata": {},
   "source": [
    "Function definition can also have multiple parameters. Below is a function that print from **m** to **n**. "
   ]
  },
  {
   "cell_type": "code",
   "execution_count": null,
   "metadata": {},
   "outputs": [],
   "source": [
    "def print_m_to_n(m, n):\n",
    "    for i in range(m, n+1):\n",
    "        print(i)"
   ]
  },
  {
   "cell_type": "markdown",
   "metadata": {},
   "source": [
    "Now, we need to supply two arugments during the function call. So, how does Python map arugments to parameters? The most straightforward method is positional argument, which maps argument to parameters based on its position."
   ]
  },
  {
   "cell_type": "code",
   "execution_count": null,
   "metadata": {},
   "outputs": [],
   "source": [
    "print_m_to_n(10, 30) # now we need to supply two arguments during the funciton call"
   ]
  },
  {
   "cell_type": "markdown",
   "metadata": {},
   "source": [
    "Alternatively, you can also use the **Keyword Argument** that explicitly declare the value of the parameters as below."
   ]
  },
  {
   "cell_type": "code",
   "execution_count": null,
   "metadata": {},
   "outputs": [],
   "source": [
    "print_m_to_n(m = 15, n = 25)"
   ]
  },
  {
   "cell_type": "markdown",
   "metadata": {},
   "source": [
    "# Activity 2.1 - add and multiplication"
   ]
  },
  {
   "cell_type": "markdown",
   "metadata": {},
   "source": [
    "In this activity, please write your own math functions:\n",
    "- an **add** function that takes two parameters x and y. The function prints out the value of x + y\n",
    "- a **mul** function that takes tree parameters x, y, and z. The function prints out the value of x * y * z"
   ]
  },
  {
   "cell_type": "code",
   "execution_count": 12,
   "metadata": {},
   "outputs": [
    {
     "name": "stdin",
     "output_type": "stream",
     "text": [
      " 10\n",
      " 22\n"
     ]
    },
    {
     "name": "stdout",
     "output_type": "stream",
     "text": [
      "32\n",
      "50\n"
     ]
    }
   ],
   "source": [
    "def add():\n",
    "    num1 = int(input())\n",
    "    num2 = int(input())\n",
    "    ans = num1 + num2\n",
    "    print(ans)\n",
    "def mul(a, b):\n",
    "    c = a * b\n",
    "    print(c)\n",
    "add()\n",
    "mul(10,5)\n"
   ]
  },
  {
   "cell_type": "markdown",
   "metadata": {},
   "source": [
    "# Activity 2.2 - mean and variance"
   ]
  },
  {
   "cell_type": "markdown",
   "metadata": {},
   "source": [
    "Function parameters can be of any data type and passing in a list something we commonly do. In last couple weeks, we have already practiced calculating sum, mean, variance of a list. Now please create functions for those operations. \n",
    "1. function **list_mean** with a list parameter. The function prints out the mean of the given list\n",
    "1. function **list_sum** with a list parameter. The function prints out the sum of the given list\n",
    "1. function **list_max** with a list parameter. The function prints out the elements with the maximum value"
   ]
  },
  {
   "cell_type": "code",
   "execution_count": null,
   "metadata": {},
   "outputs": [],
   "source": [
    "li = [2, 4, 5, 6, 19, 2, 3, 4, 5, 19]\n",
    "\n",
    "# create your functions below\n",
    "def list_mean():\n",
    "    for i in li:\n",
    "        \n",
    "\n",
    "#\n",
    "\n",
    "list_mean(li) # print out mean of li\n",
    "list_sum(li) # print out sum of li\n",
    "list_max(li) # print out variance of li\n"
   ]
  },
  {
   "cell_type": "markdown",
   "metadata": {},
   "source": [
    "# Demo3: Funciton with Return Values and Nested Function"
   ]
  },
  {
   "cell_type": "markdown",
   "metadata": {},
   "source": [
    "Function can take input arguments as well as output a value, just like the mathematic functions you used in your math classes. We call it a **return value**, and we use the **return** keyword for passing the value out of the function body. For example:"
   ]
  },
  {
   "cell_type": "code",
   "execution_count": null,
   "metadata": {},
   "outputs": [],
   "source": [
    "def add(x, y):\n",
    "    return x + y\n",
    "\n",
    "s = 3 + 5\n",
    "print(s)\n",
    "\n",
    "s = add(3, 5) # add operation in a function form. The return value is assigned to the variable s.\n",
    "print(s)"
   ]
  },
  {
   "cell_type": "markdown",
   "metadata": {},
   "source": [
    "Although not recommended, it is worthwhile knowing that we can also nest functions together. "
   ]
  },
  {
   "cell_type": "code",
   "execution_count": null,
   "metadata": {},
   "outputs": [],
   "source": [
    "s = 3 + (5 + 7)\n",
    "# the code above can be written in a function form as below\n",
    "s = add(3, add(5, 7))\n",
    "print(s)"
   ]
  },
  {
   "cell_type": "markdown",
   "metadata": {},
   "source": [
    "again, please refrain from using nested functions together unless you have compelling reasons. Doing so would reduce the readability of your code and complicate the debugging process."
   ]
  },
  {
   "cell_type": "markdown",
   "metadata": {},
   "source": [
    "# Activity 3: return values"
   ]
  },
  {
   "cell_type": "markdown",
   "metadata": {},
   "source": [
    "Please create the following functions:\n",
    "- add(x, y), which outputs x + y\n",
    "- mul(x, y), which outputs x * y"
   ]
  },
  {
   "cell_type": "code",
   "execution_count": null,
   "metadata": {},
   "outputs": [],
   "source": []
  },
  {
   "cell_type": "markdown",
   "metadata": {},
   "source": [
    "Use the two functions above to perform the calculation below:"
   ]
  },
  {
   "cell_type": "markdown",
   "metadata": {},
   "source": [
    "$(3+5)\\times(6+7)\\times(8+9)$"
   ]
  },
  {
   "cell_type": "markdown",
   "metadata": {},
   "source": [
    "note that you should try complete this activity with two coding styles:\n",
    "1. break down the formula into multiple steps and calucalte them line by line.\n",
    "1. using nested functions to represent the formula"
   ]
  },
  {
   "cell_type": "code",
   "execution_count": null,
   "metadata": {},
   "outputs": [],
   "source": []
  },
  {
   "cell_type": "markdown",
   "metadata": {},
   "source": [
    "# Activity 4 - palindrome check"
   ]
  },
  {
   "cell_type": "markdown",
   "metadata": {},
   "source": [
    "Please write a **reverse_string** function with the following spec\n",
    "- has one string parameter\n",
    "- reverses the string argument input by the user\n",
    "\n",
    "For example, a function call of reverse_string('test') should return 'tset'"
   ]
  },
  {
   "cell_type": "code",
   "execution_count": null,
   "metadata": {},
   "outputs": [],
   "source": [
    "def reverse_string(s):\n",
    "     #code here\n",
    "    return rs\n",
    "    \n",
    "s = reverse_string('this is a test.')\n",
    "print(s)"
   ]
  },
  {
   "cell_type": "markdown",
   "metadata": {},
   "source": [
    "Please write a **compare_string** function that compare if two strings are identical. The spec of the function is\n",
    "- it has two parameters str1 and str2\n",
    "- it returns -2 if the length of str1 and str2 are different\n",
    "- it returns -1 if the content of str1 is identical to str2 (as a practice, please compare both string character by character.)\n",
    "- it returns an integer n, where n is the index of the first character that is different between str1 and str 2\n"
   ]
  },
  {
   "cell_type": "code",
   "execution_count": null,
   "metadata": {},
   "outputs": [],
   "source": [
    "def compare_string(str1, str2):\n",
    "     #code here\n",
    "    return -1\n",
    "    \n",
    "a = compare_string('test', 'test')\n",
    "a = compare_string('a1st', 'test')\n",
    "print(a)"
   ]
  },
  {
   "cell_type": "markdown",
   "metadata": {},
   "source": [
    "A **palindrome** is a word, phrase, number or sequence of words that reads the same backward as forward. Please write a **is_palindrome** function that\n",
    "- takes one string parameter\n",
    "- return True if the string is a palindrome and return False otherwise"
   ]
  },
  {
   "cell_type": "code",
   "execution_count": null,
   "metadata": {},
   "outputs": [],
   "source": [
    "def is_palindrome(s):\n",
    "    #code here\n",
    "    return False\n",
    "    \n",
    "p = is_palindrome('anna') # should return True\n",
    "print(p)\n",
    "p = is_palindrome('bob') # should return True\n",
    "print(p)\n",
    "p = is_palindrome('alice') # False\n",
    "print(p)"
   ]
  },
  {
   "cell_type": "markdown",
   "metadata": {},
   "source": [
    "# Activity 5 - Selective Copy"
   ]
  },
  {
   "cell_type": "markdown",
   "metadata": {},
   "source": [
    "The goal of this activity is to create a program that can automatically copy image files in one folder to another. You should be able to extend it to handle arbitrary file types, such as Word, texts, python notebooks etc.<br>\n",
    "\n",
    "The function we are hoping to create is **copy_image(dir1, dir2)**, which copies all image files in dir1 to dir2.\n",
    "\n",
    "(please download the W06.zip from MyUni and unzip it to your working directory\n",
    "\n",
    "Before you start, let's break down the program into a series of functions we need:\n",
    "1. a function that return all file names in one directory\n",
    "1. a function that checks if the file is an image\n",
    "1. a function that takes a list of file names and copy them to a destiation folder"
   ]
  },
  {
   "cell_type": "markdown",
   "metadata": {},
   "source": [
    "### 5.1 list files "
   ]
  },
  {
   "cell_type": "markdown",
   "metadata": {},
   "source": [
    "Here I supply you with a function that list all the files inside a directory. Please give it a try. Make sure you unzip the W06 folder at your working directory. "
   ]
  },
  {
   "cell_type": "code",
   "execution_count": null,
   "metadata": {},
   "outputs": [],
   "source": [
    "import os\n",
    "\n",
    "def files_in_dir(dir = '.'):\n",
    "    files = []\n",
    "    for file in os.listdir(dir): # os.listdir return all files in the folder\n",
    "        path = os.path.join(dir, file) # join the file name with directory\n",
    "        if(os.path.isfile(path)):\n",
    "            files.append(path)\n",
    "    return files\n",
    "    \n",
    "# you should change the argument to the path of the W06 folder on your computer.\n",
    "# here I put W06 folder under the working directory\n",
    "# use 'pwd' command to obtain your working directory \n",
    "fnames = files_in_dir('./W06') \n",
    "print(fnames)"
   ]
  },
  {
   "cell_type": "markdown",
   "metadata": {},
   "source": [
    "### 5.2 check if the file is an image "
   ]
  },
  {
   "cell_type": "markdown",
   "metadata": {},
   "source": [
    "Second, we need an **is_image** function that checks if the given file name is an image. The function should return True if the file is an image, False otherwise. \n",
    "\n",
    "We can simplify the problem a bit simply by looking at the file extension, i.e. last three characters, of the given fname.\n",
    "\n",
    "**hint**: you can access characters in a string just like you access an element in a string. For example"
   ]
  },
  {
   "cell_type": "code",
   "execution_count": null,
   "metadata": {},
   "outputs": [],
   "source": [
    "s = 'hello world'\n",
    "print(s[-1]) # last character\n",
    "print(s[-2]) # second to last character\n",
    "print(s[-4:]) # from forth to last to the end of the string"
   ]
  },
  {
   "cell_type": "code",
   "execution_count": null,
   "metadata": {},
   "outputs": [],
   "source": [
    "def is_image(fname):\n",
    "    # your code here\n",
    "    pass\n",
    "    "
   ]
  },
  {
   "cell_type": "markdown",
   "metadata": {},
   "source": [
    "### 5.3 Copy files"
   ]
  },
  {
   "cell_type": "markdown",
   "metadata": {},
   "source": [
    "Third, we need a function that actually copy the file from one dir to another. \n",
    "\n",
    "Recall that you can use the **os.system** function to issue shell commands. For example"
   ]
  },
  {
   "cell_type": "code",
   "execution_count": null,
   "metadata": {},
   "outputs": [],
   "source": [
    "cmd = 'cp a.txt b.txt' # create a command string\n",
    "os.system(cmd) # execute the command"
   ]
  },
  {
   "cell_type": "code",
   "execution_count": null,
   "metadata": {},
   "outputs": [],
   "source": [
    "import os\n",
    "\n",
    "def copy_file(fname, dir):\n",
    "    #your code here\n",
    "    pass"
   ]
  },
  {
   "cell_type": "markdown",
   "metadata": {},
   "source": [
    "### 5.4 Put everything together "
   ]
  },
  {
   "cell_type": "markdown",
   "metadata": {},
   "source": [
    "Now, we finally have everything we need for the copy_image function."
   ]
  },
  {
   "cell_type": "code",
   "execution_count": null,
   "metadata": {},
   "outputs": [],
   "source": [
    "def copy_image(dir1, dir2):\n",
    "    '''copy all image files in dir1 to dir2'''\n",
    "    # your code here\n"
   ]
  },
  {
   "cell_type": "markdown",
   "metadata": {},
   "source": [
    "### 5.5 (Extra) Selective copy based on file extension"
   ]
  },
  {
   "cell_type": "markdown",
   "metadata": {},
   "source": [
    "Now, if you have time, please create a flexible function that copy files based their extension. The function could be of the following form:"
   ]
  },
  {
   "cell_type": "code",
   "execution_count": null,
   "metadata": {},
   "outputs": [],
   "source": [
    "def copy_files_ext(ext, src_dir, dst_dir):\n",
    "    '''copy all files with the file extension ext from src_dir to dst_dir '''\n",
    "    \n",
    "    "
   ]
  },
  {
   "cell_type": "markdown",
   "metadata": {},
   "source": [
    "---"
   ]
  },
  {
   "cell_type": "markdown",
   "metadata": {},
   "source": [
    "# (Optional activities below) "
   ]
  },
  {
   "cell_type": "markdown",
   "metadata": {},
   "source": [
    "### arbitrary argument "
   ]
  },
  {
   "cell_type": "markdown",
   "metadata": {},
   "source": [
    "Occassionally our function cannot know in advance how many arguments will be input. In such cases, we can use the **asterisk** in the function definition. The asterisk in the parameter name *toppings tells Python to make an empty **tuple** called toppings and pack whatever values it receives into this tuple."
   ]
  },
  {
   "cell_type": "code",
   "execution_count": null,
   "metadata": {},
   "outputs": [],
   "source": [
    "def make_pizza(*toppings):\n",
    "     #code here\n",
    "    pass # remove me later \n",
    "        \n",
    "make_pizza('pepperoni')\n",
    "make_pizza('mushroom', 'peppers', 'pepperoni')"
   ]
  },
  {
   "cell_type": "markdown",
   "metadata": {},
   "source": [
    "### tuple "
   ]
  },
  {
   "cell_type": "markdown",
   "metadata": {},
   "source": [
    "When we use the asterisk in the parameter, Python automatically pack all arguments into a **tuple**. "
   ]
  },
  {
   "cell_type": "code",
   "execution_count": null,
   "metadata": {},
   "outputs": [],
   "source": [
    "t = (1, 2, 3) # this is how you define a tuple variable\n",
    "print(t)\n",
    "print(t[0])"
   ]
  },
  {
   "cell_type": "code",
   "execution_count": null,
   "metadata": {},
   "outputs": [],
   "source": [
    "l = [1, 2, 3]\n",
    "print(l)\n",
    "print(l[0])"
   ]
  },
  {
   "cell_type": "markdown",
   "metadata": {},
   "source": [
    "The major difference between tuples and lists is that a list is **mutable**, whereas a tuple is **immutable**. This means that a list can be changed, but a tuple cannot."
   ]
  },
  {
   "cell_type": "code",
   "execution_count": null,
   "metadata": {},
   "outputs": [],
   "source": [
    "l[0] = 5 # OK    \n",
    "t[0] = 2 # error!"
   ]
  },
  {
   "cell_type": "markdown",
   "metadata": {},
   "source": [
    "Note that if there is only one element in a tuple, Python will *not* treat the variable as a tuple! To enforce that, you ened to add a trailing comma."
   ]
  },
  {
   "cell_type": "code",
   "execution_count": null,
   "metadata": {},
   "outputs": [],
   "source": [
    "s = ('abc')\n",
    "print(type(s))\n",
    "s = ('abc',) # notice the trailing comma\n",
    "print(type(s))"
   ]
  },
  {
   "cell_type": "markdown",
   "metadata": {},
   "source": [
    "### unpack"
   ]
  },
  {
   "cell_type": "markdown",
   "metadata": {},
   "source": [
    "Asterisk \\* can also **unpack** a list or tuple"
   ]
  },
  {
   "cell_type": "code",
   "execution_count": null,
   "metadata": {},
   "outputs": [],
   "source": [
    "numbers = [1, 2, 3, 4, 5, 6]\n",
    "print(numbers)\n",
    "print(*numbers)\n",
    "\n",
    "num_tuple = (3, 4, 5, 6, 7)\n",
    "print(num_tuple)\n",
    "print(*num_tuple)\n",
    "\n",
    "def print_n(*args):\n",
    "    for i in args:\n",
    "        print(i)\n",
    "print_n(1, 2, 3, 4, 5)\n",
    "print_n(*num_tuple) # you need to unpack the tuple first "
   ]
  },
  {
   "cell_type": "markdown",
   "metadata": {},
   "source": [
    "### * vs tuple  in function call"
   ]
  },
  {
   "cell_type": "markdown",
   "metadata": {},
   "source": [
    "Now, let's go back to the function definition. You might be asking yourself, why do we even need the asterisk variable? Why don't we simply pass in a tuple?<br>\n",
    "The asterisk is useful when you are dealing with unpacked data and you wish to retain the ability of iterating through them. The print function in Python is a great example."
   ]
  },
  {
   "cell_type": "code",
   "execution_count": null,
   "metadata": {},
   "outputs": [],
   "source": [
    "# using asterisk\n",
    "print('hello')\n",
    "print('hello', 5, 'world')\n",
    "\n",
    "# if there is an print_v2 function takes tuple as input\n",
    "print_v2(('hello',))\n",
    "print_v2(('hello', 5, 'world'))\n",
    "\n"
   ]
  },
  {
   "cell_type": "markdown",
   "metadata": {},
   "source": [
    "## Activity"
   ]
  },
  {
   "cell_type": "markdown",
   "metadata": {},
   "source": [
    "In this activity, you will write a statistic module of your own. The module should have the following functions:\n",
    "- a list_mean function that takes a list as its parameter\n",
    "- a list_sum function that takes a list as its parameter"
   ]
  },
  {
   "cell_type": "code",
   "execution_count": null,
   "metadata": {},
   "outputs": [],
   "source": [
    "def my_sum(*args):\n",
    "    pass"
   ]
  },
  {
   "cell_type": "code",
   "execution_count": null,
   "metadata": {},
   "outputs": [],
   "source": [
    "def my_mean(*args):\n",
    "    s = my_sum(*args) # args is a tuple here, you need to 'unpack' it for my_sum function\n",
    "    pass"
   ]
  },
  {
   "cell_type": "markdown",
   "metadata": {},
   "source": [
    "### store it as a module "
   ]
  },
  {
   "cell_type": "markdown",
   "metadata": {},
   "source": [
    "Module is a file that contains Python statements. Using module makes your code more compact and readable. For example, we can store the functions above in a separate module file for future use!\n",
    "\n",
    "- create a new file my_stats.py, and copy the above three functions into the file"
   ]
  },
  {
   "cell_type": "code",
   "execution_count": null,
   "metadata": {},
   "outputs": [],
   "source": [
    "import my_stats\n",
    "\n",
    "m = my_stats.list_mean(5, 10, 15, 20)"
   ]
  }
 ],
 "metadata": {
  "kernelspec": {
   "display_name": "Python 3",
   "language": "python",
   "name": "python3"
  },
  "language_info": {
   "codemirror_mode": {
    "name": "ipython",
    "version": 3
   },
   "file_extension": ".py",
   "mimetype": "text/x-python",
   "name": "python",
   "nbconvert_exporter": "python",
   "pygments_lexer": "ipython3",
   "version": "3.8.2"
  }
 },
 "nbformat": 4,
 "nbformat_minor": 4
}
