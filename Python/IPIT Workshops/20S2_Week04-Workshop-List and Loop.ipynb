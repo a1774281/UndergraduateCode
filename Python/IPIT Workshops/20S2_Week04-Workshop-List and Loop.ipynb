{
 "cells": [
  {
   "cell_type": "markdown",
   "metadata": {},
   "source": [
    "# Workshop 4 - Arrays and Iteration"
   ]
  },
  {
   "cell_type": "markdown",
   "metadata": {},
   "source": [
    "# Demo 1 - Declare and access lists. Convinent list functions."
   ]
  },
  {
   "cell_type": "markdown",
   "metadata": {},
   "source": [
    "A list is a seuqence of values. These values can be integers, float, string, or other Python data types. "
   ]
  },
  {
   "cell_type": "code",
   "execution_count": 1,
   "metadata": {},
   "outputs": [
    {
     "name": "stdout",
     "output_type": "stream",
     "text": [
      "[13, 3, 5, 10, 12]\n",
      "['this', 'is', 'my', 'second', 'list!']\n",
      "[0, 0, 0, 0, 0, 0, 0, 0, 0, 0]\n"
     ]
    }
   ],
   "source": [
    "my_int_list = [13, 3, 5, 10, 12]\n",
    "print(my_int_list)\n",
    "\n",
    "my_str_list = ['this', 'is', 'my', 'second', 'list!']\n",
    "print(my_str_list)\n",
    "\n",
    "my_list = [0] * 10 # create a list with 10 elements with value 0\n",
    "print(my_list)\n"
   ]
  },
  {
   "cell_type": "markdown",
   "metadata": {},
   "source": [
    "We can access individual element using the [ ] operator. Note that Python list uses **zero index**."
   ]
  },
  {
   "cell_type": "code",
   "execution_count": 2,
   "metadata": {},
   "outputs": [
    {
     "name": "stdout",
     "output_type": "stream",
     "text": [
      "13\n",
      "12\n",
      "this\n"
     ]
    }
   ],
   "source": [
    "print(my_int_list[0])\n",
    "print(my_int_list[-1]) # access the last element\n",
    "print(my_str_list[0])"
   ]
  },
  {
   "cell_type": "markdown",
   "metadata": {},
   "source": [
    "We can also perform mathmatic operating with the element in list. Again, you should be clear about the data type of elements in the list. Sometimes it might be a good idea to use the variable name as a reminder to youself. For example, if you have a list whose elements are integers, you can name it **int_list**. "
   ]
  },
  {
   "cell_type": "code",
   "execution_count": 3,
   "metadata": {},
   "outputs": [
    {
     "name": "stdout",
     "output_type": "stream",
     "text": [
      "15\n"
     ]
    }
   ],
   "source": [
    "x = my_int_list[1]*my_int_list[2]\n",
    "print(x)"
   ]
  },
  {
   "cell_type": "markdown",
   "metadata": {},
   "source": [
    "Python also provides many built-in functions for List, such as sum, max, min, sorted. "
   ]
  },
  {
   "cell_type": "code",
   "execution_count": 4,
   "metadata": {},
   "outputs": [
    {
     "name": "stdout",
     "output_type": "stream",
     "text": [
      "sum: 43, max: 13, length: 5, sorted list: [3, 5, 10, 12, 13]\n"
     ]
    }
   ],
   "source": [
    "my_int_list = [13, 3, 5, 10, 12]\n",
    "s = sum(my_int_list)\n",
    "m = max(my_int_list)\n",
    "list2 = sorted(my_int_list)\n",
    "l = len(my_int_list)\n",
    "\n",
    "print(f'sum: {s}, max: {m}, length: {l}, sorted list: {list2}')"
   ]
  },
  {
   "cell_type": "markdown",
   "metadata": {},
   "source": [
    "## sort() vs sorted() "
   ]
  },
  {
   "cell_type": "markdown",
   "metadata": {},
   "source": [
    "Note that sorted() function takes a list as an input and return a new list. The sorted() function does not modify the list itself. It is the same behaviour as those string manipulation functions we used last week, e.g. str.upper(), str.lower(). "
   ]
  },
  {
   "cell_type": "code",
   "execution_count": 5,
   "metadata": {},
   "outputs": [
    {
     "name": "stdout",
     "output_type": "stream",
     "text": [
      "1: l1: [13, 3, 5, 10, 12]\n",
      "2: l2: [3, 5, 10, 12, 13]\n"
     ]
    }
   ],
   "source": [
    "l1 = [13, 3, 5, 10, 12]\n",
    "l2 = sorted(l1)\n",
    "print(f'1: l1: {l1}') # sorted() returns a new list and does not modify the list content\n",
    "print(f'2: l2: {l2}') \n"
   ]
  },
  {
   "cell_type": "markdown",
   "metadata": {},
   "source": [
    "While the sort() method directly change the list content. "
   ]
  },
  {
   "cell_type": "code",
   "execution_count": 7,
   "metadata": {},
   "outputs": [
    {
     "name": "stdout",
     "output_type": "stream",
     "text": [
      "l1 before sort: [13, 3, 5, 10, 12]\n",
      "l1 after sort: [3, 5, 10, 12, 13]\n"
     ]
    }
   ],
   "source": [
    "l1 = [13, 3, 5, 10, 12]\n",
    "print(f'l1 before sort: {l1}')\n",
    "l1.sort() # sort() method modifies the list content\n",
    "print(f'l1 after sort: {l1}')"
   ]
  },
  {
   "cell_type": "markdown",
   "metadata": {},
   "source": [
    "# Activity 1 - Calculating Variance Using List"
   ]
  },
  {
   "cell_type": "markdown",
   "metadata": {},
   "source": [
    "Remember the activity of calculating mean and variance from the last week? Let's do it again using list "
   ]
  },
  {
   "attachments": {
    "image.png": {
     "image/png": "[encoded data removed]"
    }
   },
   "cell_type": "markdown",
   "metadata": {},
   "source": [
    "![image.png](attachment:image.png)"
   ]
  },
  {
   "cell_type": "code",
   "execution_count": 15,
   "metadata": {},
   "outputs": [
    {
     "name": "stdout",
     "output_type": "stream",
     "text": [
      "sum: 49, mean: 16.333333333333332, var: 110.33333333333333\n"
     ]
    }
   ],
   "source": [
    "v = [27, 6, 16]\n",
    "\n",
    "s = sum(v)\n",
    "mean = (sum(v) / len(v))\n",
    "variance = (((v[0]-mean)**2) + ((v[1]-mean)**2) + ((v[2]-mean)**2)) / (len(v) - 1)\n",
    "print(f'sum: {s}, mean: {mean}, var: {variance}')"
   ]
  },
  {
   "cell_type": "markdown",
   "metadata": {},
   "source": [
    "***"
   ]
  },
  {
   "cell_type": "markdown",
   "metadata": {},
   "source": [
    "# Demo 2 - Add / Remove elements"
   ]
  },
  {
   "cell_type": "markdown",
   "metadata": {},
   "source": [
    "The size of the list is determined upon its initialization. "
   ]
  },
  {
   "cell_type": "code",
   "execution_count": 16,
   "metadata": {},
   "outputs": [
    {
     "ename": "IndexError",
     "evalue": "list index out of range",
     "output_type": "error",
     "traceback": [
      "\u001b[0;31m---------------------------------------------------------------------------\u001b[0m",
      "\u001b[0;31mIndexError\u001b[0m                                Traceback (most recent call last)",
      "\u001b[0;32m<ipython-input-16-69267a49707d>\u001b[0m in \u001b[0;36m<module>\u001b[0;34m\u001b[0m\n\u001b[1;32m      1\u001b[0m \u001b[0mmy_list\u001b[0m \u001b[0;34m=\u001b[0m \u001b[0;34m[\u001b[0m\u001b[0;36m1\u001b[0m\u001b[0;34m,\u001b[0m \u001b[0;36m3\u001b[0m\u001b[0;34m,\u001b[0m \u001b[0;36m6\u001b[0m\u001b[0;34m,\u001b[0m \u001b[0;36m7\u001b[0m\u001b[0;34m,\u001b[0m \u001b[0;36m8\u001b[0m\u001b[0;34m]\u001b[0m\u001b[0;34m\u001b[0m\u001b[0;34m\u001b[0m\u001b[0m\n\u001b[0;32m----> 2\u001b[0;31m \u001b[0mmy_list\u001b[0m\u001b[0;34m[\u001b[0m\u001b[0mlen\u001b[0m\u001b[0;34m(\u001b[0m\u001b[0mmy_list\u001b[0m\u001b[0;34m)\u001b[0m\u001b[0;34m]\u001b[0m \u001b[0;31m# now, what error will you have?\u001b[0m\u001b[0;34m\u001b[0m\u001b[0;34m\u001b[0m\u001b[0m\n\u001b[0m",
      "\u001b[0;31mIndexError\u001b[0m: list index out of range"
     ]
    }
   ],
   "source": [
    "\n",
    "my_list = [1, 3, 6, 7, 8]\n",
    "my_list[len(my_list)] # now, what error will you have?"
   ]
  },
  {
   "cell_type": "markdown",
   "metadata": {},
   "source": [
    "You can add and remove elements using the following methods"
   ]
  },
  {
   "cell_type": "code",
   "execution_count": 17,
   "metadata": {},
   "outputs": [
    {
     "name": "stdout",
     "output_type": "stream",
     "text": [
      "[1, 2, 3, 4, 5, 3]\n",
      "[1, 2, 3, 4, 5, 3, 5]\n",
      "[1, 2, 3, 4, 5, 3, 5, 1, 2, 3]\n",
      "[1, 2, 3, 4, 5, 3, 5, 1, 2]\n",
      "[1, 2, 4, 5, 3, 5, 1, 2]\n"
     ]
    }
   ],
   "source": [
    "my_list = [1, 2, 3, 4, 5]\n",
    "my_list.append(3)\n",
    "print(my_list)\n",
    "my_list = my_list + [5] # think about why you need to assign it back to the list\n",
    "print(my_list) \n",
    "my_list = my_list + [1, 2, 3]\n",
    "print(my_list) \n",
    "\n",
    "my_list.pop()\n",
    "print(my_list) \n",
    "\n",
    "my_list.pop(2) #remove the second element in the list\n",
    "print(my_list) \n",
    "\n"
   ]
  },
  {
   "cell_type": "markdown",
   "metadata": {},
   "source": [
    "Please also be aware of the difference between append() and + operator when you are dealing with two lists."
   ]
  },
  {
   "cell_type": "code",
   "execution_count": 18,
   "metadata": {},
   "outputs": [
    {
     "name": "stdout",
     "output_type": "stream",
     "text": [
      "[1, 2, 3, 7, 8, 9]\n",
      "[1, 2, 3, [7, 8, 9]]\n",
      "7 v.s. [7, 8, 9]\n"
     ]
    }
   ],
   "source": [
    "l1 = [1, 2, 3]\n",
    "l1 = l1 + [7, 8, 9]\n",
    "print(l1)\n",
    "\n",
    "l2 = [1, 2, 3]\n",
    "l2.append([7, 8, 9])\n",
    "print(l2) # this will create a nested list\n",
    "\n",
    "print(f'{l1[3]} v.s. {l2[3]}')\n"
   ]
  },
  {
   "cell_type": "markdown",
   "metadata": {},
   "source": [
    "# Activity 2 - A classroom attendance recorder "
   ]
  },
  {
   "cell_type": "markdown",
   "metadata": {},
   "source": [
    "Let's create a system that records student entering and leaving the room using the list data structure. Please use a list that record the stduetns in the room. **Print the list** after each step.\n",
    "\n",
    "1. Initially, Aaren, Charlie, and Ray are already in the room\n",
    "1. 'Lane' come into the room\n",
    "1. 'Jess' and 'Jude' come into the room\n",
    "1. 'Lane' leaves the room\n",
    "1. Finally, show the length of the list and its content"
   ]
  },
  {
   "cell_type": "code",
   "execution_count": 29,
   "metadata": {},
   "outputs": [
    {
     "name": "stdout",
     "output_type": "stream",
     "text": [
      "['Aaren', 'Charlie', 'Ray']\n",
      "['Aaren', 'Charlie', 'Ray', 'Lane']\n",
      "['Aaren', 'Charlie', 'Ray', 'Lane', 'Jess', 'Jude']\n",
      "['Aaren', 'Charlie', 'Ray', 'Jess', 'Jude']\n",
      "The number of students in the class is 5\n",
      "The students in the class are ['Aaren', 'Charlie', 'Ray', 'Jess', 'Jude']\n"
     ]
    }
   ],
   "source": [
    "class_room = ['Aaren', 'Charlie', 'Ray']\n",
    "print(class_room)\n",
    "class_room.append('Lane')\n",
    "print(class_room)\n",
    "class_room.append('Jess')\n",
    "class_room.append('Jude')\n",
    "print(class_room)\n",
    "class_room.pop(3)\n",
    "print(class_room)\n",
    "print(f'The number of students in the class is {len(class_room)}')\n",
    "print(f'The students in the class are {class_room}')\n"
   ]
  },
  {
   "cell_type": "markdown",
   "metadata": {},
   "source": [
    "***"
   ]
  },
  {
   "cell_type": "markdown",
   "metadata": {},
   "source": [
    "# Demo 3 - For loop "
   ]
  },
  {
   "cell_type": "markdown",
   "metadata": {},
   "source": [
    "We commonly use a for loop to traverse every elements in a list. Be aware of the spaces in the code below. Python use spaces to control code blocks."
   ]
  },
  {
   "cell_type": "code",
   "execution_count": 30,
   "metadata": {},
   "outputs": [
    {
     "name": "stdout",
     "output_type": "stream",
     "text": [
      "1\n",
      "3\n",
      "5\n",
      "7\n",
      "9\n",
      "this\n",
      "is\n",
      "a\n",
      "list\n"
     ]
    }
   ],
   "source": [
    "my_list = [1, 3, 5, 7, 9]\n",
    "for x in my_list:\n",
    "    print(x)\n",
    "    \n",
    "my_list = ['this', 'is', 'a', 'list']\n",
    "for y in my_list:\n",
    "    print(y)"
   ]
  },
  {
   "cell_type": "markdown",
   "metadata": {},
   "source": [
    "The range() function is often used together with the for loop. The range() function generates a series of integer numbers between a **start** integer and a **stop** integer. The range() function returns an iterable range object and is often used with the for loop."
   ]
  },
  {
   "cell_type": "code",
   "execution_count": 31,
   "metadata": {},
   "outputs": [
    {
     "name": "stdout",
     "output_type": "stream",
     "text": [
      "0\n",
      "1\n",
      "2\n",
      "3\n",
      "4\n",
      "5\n",
      "6\n",
      "7\n",
      "8\n",
      "9\n",
      "-----\n",
      "5\n",
      "6\n",
      "7\n",
      "8\n",
      "9\n"
     ]
    }
   ],
   "source": [
    "for i in range(0, 10): # will print 0 to 9\n",
    "    print(i)\n",
    "\n",
    "print('-----')\n",
    "\n",
    "for i in range(5, 10): # will print 5 to 9\n",
    "    print(i)"
   ]
  },
  {
   "cell_type": "markdown",
   "metadata": {},
   "source": [
    "In additionl to **start** and **stop**, the range() function can takes an additional third arguments, **step**, specifying the increment between numbers."
   ]
  },
  {
   "cell_type": "code",
   "execution_count": 33,
   "metadata": {},
   "outputs": [
    {
     "name": "stdout",
     "output_type": "stream",
     "text": [
      "0\n",
      "2\n",
      "4\n",
      "6\n",
      "8\n",
      "10\n",
      "12\n",
      "14\n",
      "16\n",
      "18\n",
      "----\n",
      "0\n",
      "3\n",
      "6\n",
      "9\n",
      "12\n",
      "15\n",
      "18\n"
     ]
    }
   ],
   "source": [
    "for i in range(0, 20, 2):\n",
    "    print(i)\n",
    "print('----')\n",
    "for i in range(0, 20, 3):\n",
    "    print(i)"
   ]
  },
  {
   "cell_type": "markdown",
   "metadata": {},
   "source": [
    "Now, let's see how for, range, and list can work together"
   ]
  },
  {
   "cell_type": "markdown",
   "metadata": {},
   "source": [
    "### create a list with range() "
   ]
  },
  {
   "cell_type": "code",
   "execution_count": 32,
   "metadata": {},
   "outputs": [
    {
     "name": "stdout",
     "output_type": "stream",
     "text": [
      "[0, 3, 6, 9, 12, 15, 18, 21, 24, 27, 30, 33, 36, 39, 42, 45, 48]\n"
     ]
    }
   ],
   "source": [
    "# create a list of number between 0 to 9\n",
    "li = []\n",
    "for i in range(0, 50, 3):\n",
    "    li.append(i)\n",
    "print(li)    "
   ]
  },
  {
   "cell_type": "markdown",
   "metadata": {},
   "source": [
    "actually, Python can also do the type casting for you. "
   ]
  },
  {
   "cell_type": "code",
   "execution_count": 34,
   "metadata": {},
   "outputs": [
    {
     "name": "stdout",
     "output_type": "stream",
     "text": [
      "[0, 3, 6, 9, 12, 15, 18, 21, 24, 27, 30, 33, 36, 39, 42, 45, 48]\n"
     ]
    }
   ],
   "source": [
    "li = list(range(0, 50, 3))\n",
    "print(li)"
   ]
  },
  {
   "cell_type": "markdown",
   "metadata": {},
   "source": [
    "### traverse a list with range() "
   ]
  },
  {
   "cell_type": "markdown",
   "metadata": {},
   "source": [
    "It is very common to traverse a list with this expression: **for i in range(len(list))**. Doing so give you an advantage of knowing the position of the element. See below for a comparison. "
   ]
  },
  {
   "cell_type": "code",
   "execution_count": 35,
   "metadata": {},
   "outputs": [
    {
     "name": "stdout",
     "output_type": "stream",
     "text": [
      "this\n",
      "is\n",
      "a\n",
      "string\n",
      "list\n",
      "0th element is this\n",
      "1th element is is\n",
      "2th element is a\n",
      "3th element is string\n",
      "4th element is list\n"
     ]
    }
   ],
   "source": [
    "my_list = ['this', 'is', 'a', 'string', 'list']\n",
    "\n",
    "for i in my_list:\n",
    "    print(i) # you cannot readily obtian the position of the element. \n",
    "\n",
    "for i in range(len(my_list)): # remember this approach!\n",
    "    print(f'{i}th element is {my_list[i]}')"
   ]
  },
  {
   "cell_type": "markdown",
   "metadata": {},
   "source": [
    "# Activity 3.1 - List sum"
   ]
  },
  {
   "cell_type": "markdown",
   "metadata": {},
   "source": [
    "Create a list between 1 and 100 with a step of 3, e.g. 0, 3, 6...99. Then use a for loop to calculate the sum of this list."
   ]
  },
  {
   "cell_type": "code",
   "execution_count": 40,
   "metadata": {},
   "outputs": [
    {
     "name": "stdout",
     "output_type": "stream",
     "text": [
      "[0, 3, 6, 9, 12, 15, 18, 21, 24, 27, 30, 33, 36, 39, 42, 45, 48, 51, 54, 57, 60, 63, 66, 69, 72, 75, 78, 81, 84, 87, 90, 93, 96, 99]\n",
      "the sum of my_list is 1683\n"
     ]
    }
   ],
   "source": [
    "print(list(range(0, 100, 3)))\n",
    "my_list = list(range(0, 100, 3))\n",
    "sum1 = 0\n",
    "#for loop below to sum every element together\n",
    "for i in my_list:\n",
    "    sum1 += i\n",
    "print(f'the sum of my_list is {sum1}')"
   ]
  },
  {
   "cell_type": "markdown",
   "metadata": {},
   "source": [
    "# Activity 3.2 - Merge string"
   ]
  },
  {
   "cell_type": "markdown",
   "metadata": {},
   "source": [
    "Please use for loop and merge the list below into one single string."
   ]
  },
  {
   "cell_type": "code",
   "execution_count": 42,
   "metadata": {},
   "outputs": [
    {
     "name": "stdout",
     "output_type": "stream",
     "text": [
      "this is a list of string \n"
     ]
    }
   ],
   "source": [
    "my_list = ['this', 'is', 'a', 'list', 'of', 'string']\n",
    "new_string = ''\n",
    "# merge the list above into one single string \"this is a string list\"\n",
    "for i in my_list:\n",
    "    new_string += i\n",
    "    new_string += ' '\n",
    "print(new_string)"
   ]
  },
  {
   "cell_type": "markdown",
   "metadata": {},
   "source": [
    "# Activity 3.3 - List"
   ]
  },
  {
   "cell_type": "markdown",
   "metadata": {},
   "source": [
    "Take two inputs **n** and **s** from the user. Your program should then create a list of n integers with an increment of s starting from 0. For example, \n",
    "- if n = 5, and s = 2, then your list should be [0, 2, 4, 6, 8]. \n",
    "- If n = 8, and s = 5, then the list should be [0, 5, 10, 15, 20, 25, 30, 35]"
   ]
  },
  {
   "cell_type": "code",
   "execution_count": 61,
   "metadata": {},
   "outputs": [
    {
     "name": "stdin",
     "output_type": "stream",
     "text": [
      "n:  8\n",
      "s:  5\n"
     ]
    },
    {
     "name": "stdout",
     "output_type": "stream",
     "text": [
      "[0, 5, 10, 15, 20, 25, 30, 35]\n"
     ]
    }
   ],
   "source": [
    "n = int(input(\"n: \"))\n",
    "s = int(input(\"s: \"))\n",
    "li = [0]\n",
    "x = 0\n",
    "\n",
    "for i in range(0, (n -1)):\n",
    "    li.append(x + s)\n",
    "    x += s\n",
    "print(li)"
   ]
  },
  {
   "cell_type": "markdown",
   "metadata": {},
   "source": [
    "# Activity 3.4 - Calculate variance using for and list"
   ]
  },
  {
   "attachments": {
    "image.png": {
     "image/png": "[encoded data removed]"
    }
   },
   "cell_type": "markdown",
   "metadata": {},
   "source": [
    "![image.png](attachment:image.png)"
   ]
  },
  {
   "cell_type": "markdown",
   "metadata": {},
   "source": [
    "Calculate the sum, mean, and variance of the list below. Please do not use the built-in function and calculate these values manually. "
   ]
  },
  {
   "cell_type": "code",
   "execution_count": 119,
   "metadata": {},
   "outputs": [
    {
     "name": "stdout",
     "output_type": "stream",
     "text": [
      "sum: 1683 mean: 49.5 var: 866.25\n"
     ]
    }
   ],
   "source": [
    "# calculate the variance of the my_list variable above\n",
    "\n",
    "li = list(range(0, 100, 3))\n",
    "li_sum = sum(li)\n",
    "li_mean = (sum(li) / len(li))\n",
    "var = 0\n",
    "li_var = 0\n",
    "for i in li:\n",
    "    li_var += ((i - li_mean)**2)\n",
    "var = li_var / (len(li))\n",
    "print(f'sum: {li_sum} mean: {li_mean} var: {var}')\n",
    "\n"
   ]
  },
  {
   "cell_type": "markdown",
   "metadata": {},
   "source": [
    "---"
   ]
  },
  {
   "cell_type": "markdown",
   "metadata": {},
   "source": [
    "# Demo 4 - Nested List "
   ]
  },
  {
   "cell_type": "markdown",
   "metadata": {},
   "source": [
    "A list can contain different data types, including list itself. We can created a nested list by the following"
   ]
  },
  {
   "cell_type": "code",
   "execution_count": 121,
   "metadata": {},
   "outputs": [
    {
     "name": "stdout",
     "output_type": "stream",
     "text": [
      "[[1, 2, 3, 4], [5, 6, 7, 8], [9, 10, 11, 12]]\n"
     ]
    }
   ],
   "source": [
    "mat = [[1,2,3,4],[5,6,7,8],[9,10,11,12]]\n",
    "print(mat)"
   ]
  },
  {
   "cell_type": "raw",
   "metadata": {},
   "source": [
    "The matrix would look like this \n",
    "\n",
    "1  2  3  4\n",
    "5  6  7  8\n",
    "9 10 11 12"
   ]
  },
  {
   "cell_type": "code",
   "execution_count": null,
   "metadata": {},
   "outputs": [],
   "source": [
    "#you can access the first row with\n",
    "print(mat[0])\n",
    "\n",
    "# you can access the element(0, 0) with\n",
    "print(mat[0][0])"
   ]
  },
  {
   "cell_type": "markdown",
   "metadata": {},
   "source": [
    "To traverse the whole nested list, you can write a nested for loop!"
   ]
  },
  {
   "cell_type": "code",
   "execution_count": 133,
   "metadata": {},
   "outputs": [
    {
     "name": "stdout",
     "output_type": "stream",
     "text": [
      "row: [1, 2, 3]\n",
      "1\n",
      "2\n",
      "3\n",
      "row: [4, 5, 6]\n",
      "4\n",
      "5\n",
      "6\n",
      "row: [7, 8, 9]\n",
      "7\n",
      "8\n",
      "9\n"
     ]
    }
   ],
   "source": [
    "for row in mat:\n",
    "    print(f'row: {row}')\n",
    "    for e in row:\n",
    "        print(f'{e}')"
   ]
  },
  {
   "cell_type": "markdown",
   "metadata": {},
   "source": [
    "# Activity 4 - Flatten a nested list using for loop"
   ]
  },
  {
   "cell_type": "markdown",
   "metadata": {},
   "source": [
    "We have a nested list as below. Can you flatten it into a 1D list?"
   ]
  },
  {
   "cell_type": "code",
   "execution_count": 140,
   "metadata": {},
   "outputs": [
    {
     "name": "stdout",
     "output_type": "stream",
     "text": [
      "[1, 2, 3, 4, 5, 6, 7, 8, 9]\n"
     ]
    }
   ],
   "source": [
    "mat = [[1,2,3],[4, 5, 6],[7, 8, 9]]\n",
    "mat2 = []\n",
    "# use for loop to flatten mat into mat2 = [1, 2, 3, 4, 5, 6, 7, 8, 9]\n",
    "for row in mat:\n",
    "    for e in row:\n",
    "        mat2.append(e)\n",
    "print(mat2)\n",
    "    \n"
   ]
  },
  {
   "cell_type": "code",
   "execution_count": null,
   "metadata": {},
   "outputs": [],
   "source": []
  }
 ],
 "metadata": {
  "kernelspec": {
   "display_name": "Python 3",
   "language": "python",
   "name": "python3"
  },
  "language_info": {
   "codemirror_mode": {
    "name": "ipython",
    "version": 3
   },
   "file_extension": ".py",
   "mimetype": "text/x-python",
   "name": "python",
   "nbconvert_exporter": "python",
   "pygments_lexer": "ipython3",
   "version": "3.8.2"
  }
 },
 "nbformat": 4,
 "nbformat_minor": 4
}
