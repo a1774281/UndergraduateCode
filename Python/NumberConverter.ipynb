{
 "cells": [
  {
   "cell_type": "code",
   "execution_count": 23,
   "metadata": {},
   "outputs": [
    {
     "name": "stdin",
     "output_type": "stream",
     "text": [
      "Binary --> Decimal (1) or Decimal --> Binary (2) 1\n",
      "Enter a binary number 001\n"
     ]
    },
    {
     "name": "stdout",
     "output_type": "stream",
     "text": [
      "The decimal value is 1\n"
     ]
    },
    {
     "name": "stdin",
     "output_type": "stream",
     "text": [
      "Would you like to play again? n\n"
     ]
    },
    {
     "name": "stdout",
     "output_type": "stream",
     "text": [
      "Done\n"
     ]
    }
   ],
   "source": [
    "\n",
    "play_again = 'y'\n",
    "\n",
    "while play_again == 'y':\n",
    "    play = input('Binary --> Decimal (1) or Decimal --> Binary (2)')\n",
    "    if play == '1':\n",
    "        binary_num = list(input('Enter a binary number'))\n",
    "        ans = 0 \n",
    "        for i in range(len(binary_num)):\n",
    "            digit = binary_num.pop()\n",
    "            if digit == '1':\n",
    "                ans += pow(2, i)\n",
    "        print(f'The decimal value is {ans}')\n",
    "        \n",
    "        play_again = input('Would you like to play again?')\n",
    "        \n",
    "    elif play == '2':\n",
    "        method = input('Subractive (1) or Successive Division (2)')\n",
    "        str1 = ''\n",
    "        if method == '1':\n",
    "            decimal_number = int(input('Enter a decimal number'))\n",
    "            array = [8192, 4096, 2048, 1024, 512, 256, 128, 64, 32, 16, 8, 4, 2, 1]\n",
    "            for i in array:\n",
    "                if (decimal_number - i) >= 0:\n",
    "                    decimal_number -= i\n",
    "                    str1 += str(1)\n",
    "                else:\n",
    "                    str1 += str(0)\n",
    "            print(str1.lstrip('0'))\n",
    "                    \n",
    "                    \n",
    "            play_again = input('Would you like to play again?')\n",
    "            \n",
    "        if method == '2':\n",
    "            decimal_number = int(input('Enter a decimal number'))\n",
    "            ans = ''\n",
    "            while decimal_number > 0:\n",
    "                digit = (decimal_number % 2)\n",
    "                decimal_number //= 2\n",
    "                ans += str(digit)\n",
    "            ans_length =len(ans)\n",
    "            sliced_ans = ans[ans_length::-1]\n",
    "            print (sliced_ans) \n",
    "            \n",
    "            play_again = input('Would you like to play again?')\n",
    "            \n",
    "    else:\n",
    "        print('Error! Try again')\n",
    "        play_again = input('Would you like to try again?')        \n",
    "print(\"Done\")\n",
    "    \n"
   ]
  },
  {
   "cell_type": "code",
   "execution_count": null,
   "metadata": {},
   "outputs": [],
   "source": []
  },
  {
   "cell_type": "markdown",
   "metadata": {},
   "source": []
  }
 ],
 "metadata": {
  "kernelspec": {
   "display_name": "Python 3",
   "language": "python",
   "name": "python3"
  },
  "language_info": {
   "codemirror_mode": {
    "name": "ipython",
    "version": 3
   },
   "file_extension": ".py",
   "mimetype": "text/x-python",
   "name": "python",
   "nbconvert_exporter": "python",
   "pygments_lexer": "ipython3",
   "version": "3.8.2"
  }
 },
 "nbformat": 4,
 "nbformat_minor": 4
}
