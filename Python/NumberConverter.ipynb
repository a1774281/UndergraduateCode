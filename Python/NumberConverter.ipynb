{
 "cells": [
  {
   "cell_type": "code",
   "execution_count": 7,
   "metadata": {},
   "outputs": [
    {
     "name": "stdin",
     "output_type": "stream",
     "text": [
      "Binary --> Decimal (1) or Decimal --> Binary (2) 2\n",
      "Subractive (1) or Successive Division (2) 1\n",
      "Enter a decimal number 10\n"
     ]
    },
    {
     "name": "stdout",
     "output_type": "stream",
     "text": [
      "6\n",
      "26\n",
      "38\n",
      "90\n",
      "166\n",
      "90\n",
      "38\n",
      "218\n",
      "38\n",
      "26\n",
      "102\n",
      "154\n",
      "102\n",
      "26\n",
      "230\n",
      "26\n",
      "6\n",
      "58\n",
      "70\n",
      "186\n"
     ]
    },
    {
     "name": "stdin",
     "output_type": "stream",
     "text": [
      "Would you like to play again? n\n"
     ]
    },
    {
     "name": "stdout",
     "output_type": "stream",
     "text": [
      "Done\n"
     ]
    }
   ],
   "source": [
    "\n",
    "play_again = 'y'\n",
    "while play_again == 'y':\n",
    "    play = input('Binary --> Decimal (1) or Decimal --> Binary (2)')\n",
    "    if play == '1':\n",
    "        binary_num = list(input('Enter a binary number'))\n",
    "        ans = 0 \n",
    "        for i in range(len(binary_num)):\n",
    "            digit = binary_num.pop()\n",
    "            if digit == '1':\n",
    "                ans += pow(2, i)\n",
    "        print(f'The decimal value is {ans}')\n",
    "        \n",
    "        play_again = input('Would you like to play again?')\n",
    "        \n",
    "    elif play == '2':\n",
    "        method = input('Subractive (1) or Successive Division (2)')\n",
    "        if method == '1':\n",
    "            decimal_number = int(input('Enter a decimal number'))\n",
    "            array = [1, 2, 4, 8, 16, 32, 64, 128, 256]\n",
    "            for i in array:\n",
    "                if i > decimal_number:\n",
    "                    decimal_number = i - decimal_number\n",
    "                    print(decimal_number)\n",
    "                    \n",
    "        \n",
    "            play_again = input('Would you like to play again?')\n",
    "            \n",
    "        elif method == '2':\n",
    "            decimal_number = int(input('Enter a decimal number'))\n",
    "            ans = ''\n",
    "            while decimal_number > 0:\n",
    "                digit = (decimal_number % 2)\n",
    "                decimal_number /= 2\n",
    "                ans += str(digit)\n",
    "            ans_length =len(ans)\n",
    "            sliced_ans = ans[ans_length::-1]\n",
    "            print (sliced_ans) \n",
    "            \n",
    "            play_again = input('Would you like to play again?')\n",
    "            \n",
    "    else:\n",
    "        print('Error! Try again')\n",
    "        play_again = input('Would you like to try again?')\n",
    "        \n",
    "print(\"Done\")\n",
    "    \n"
   ]
  },
  {
   "cell_type": "code",
   "execution_count": null,
   "metadata": {},
   "outputs": [],
   "source": []
  },
  {
   "cell_type": "markdown",
   "metadata": {},
   "source": []
  }
 ],
 "metadata": {
  "kernelspec": {
   "display_name": "Python 3",
   "language": "python",
   "name": "python3"
  },
  "language_info": {
   "codemirror_mode": {
    "name": "ipython",
    "version": 3
   },
   "file_extension": ".py",
   "mimetype": "text/x-python",
   "name": "python",
   "nbconvert_exporter": "python",
   "pygments_lexer": "ipython3",
   "version": "3.8.2"
  }
 },
 "nbformat": 4,
 "nbformat_minor": 4
}
